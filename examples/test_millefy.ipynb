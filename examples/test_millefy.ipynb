{
 "cells": [
  {
   "cell_type": "markdown",
   "metadata": {},
   "source": [
    "# Example usage of Millefy"
   ]
  },
  {
   "cell_type": "code",
   "execution_count": null,
   "metadata": {},
   "outputs": [
    {
     "name": "stderr",
     "output_type": "stream",
     "text": [
      "Warning message:\n",
      "“replacing previous import ‘IRanges::shift’ by ‘data.table::shift’ when loading ‘millefy’”"
     ]
    }
   ],
   "source": [
    "library(millefy)"
   ]
  },
  {
   "cell_type": "markdown",
   "metadata": {},
   "source": [
    "## Input files"
   ]
  },
  {
   "cell_type": "markdown",
   "metadata": {},
   "source": [
    "### BigWig files (scRNA-seq samples)"
   ]
  },
  {
   "cell_type": "code",
   "execution_count": null,
   "metadata": {},
   "outputs": [],
   "source": [
    "# Path to bigWig files\n",
    "bwfiles = Sys.glob(file.path(system.file(\"extdata\", package=\"millefy\"), \"*.bw\"))\n",
    "print(bwfiles)"
   ]
  },
  {
   "cell_type": "code",
   "execution_count": null,
   "metadata": {},
   "outputs": [],
   "source": [
    "# Group labels for bigWig files (same length as bwfiles)\n",
    "groups = c(\"00h\", \"00h\", \"00h\", \"12h\", \"12h\", \"12h\")"
   ]
  },
  {
   "cell_type": "code",
   "execution_count": null,
   "metadata": {},
   "outputs": [],
   "source": [
    "# Color labels for bigWig files (A named vector with the same length as the number of kinds of \\\\code{groups})\n",
    "color_labels <- colorRampPalette(c(\"yellow\", \"red\"))(length(unique(groups))+1)[1:length(unique(groups))]\n",
    "names(color_labels)  <- unique(groups)\n",
    "print(color_labels)"
   ]
  },
  {
   "cell_type": "markdown",
   "metadata": {},
   "source": [
    "### GTF file (gene models)"
   ]
  },
  {
   "cell_type": "code",
   "execution_count": null,
   "metadata": {},
   "outputs": [],
   "source": [
    "# Load gene models (It takes a little time)\n",
    "path_gtf = system.file(\"extdata\", \"example.gtf\", package=\"millefy\")\n",
    "dt_gtf_exon <- gtfToDtExon(path_gtf)"
   ]
  },
  {
   "cell_type": "markdown",
   "metadata": {},
   "source": [
    "### Set tracks"
   ]
  },
  {
   "cell_type": "code",
   "execution_count": null,
   "metadata": {},
   "outputs": [],
   "source": [
    "# Set tracks\n",
    "## Single-cell track\n",
    "max_value = 7000\n",
    "scTrackBw <- list(path_bam_files = bwfiles, groups = groups, group_colors = color_labels, max_value = max_value, isBw=TRUE)\n",
    "\n",
    "## Gene annotation track\n",
    "geneTrack1 <- list(path_gtf = path_gtf, dt_gtf = dt_gtf_exon, label = \"GENCODE\")\n",
    "\n",
    "\n",
    "# Prepare arguments for millefyPlot()\n",
    "## List of tracks\n",
    "tdlist <- list(scTrackBw, geneTrack1)\n",
    "\n",
    "## List of track types\n",
    "tt <- c(\"sc\", \"gene\")\n",
    "\n",
    "## List of track hights\n",
    "heights = c(12, 2)"
   ]
  },
  {
   "cell_type": "markdown",
   "metadata": {},
   "source": [
    "### Set a location"
   ]
  },
  {
   "cell_type": "code",
   "execution_count": null,
   "metadata": {},
   "outputs": [],
   "source": [
    "# Location to visualize\n",
    "chr =  \"chr19\" # character\n",
    "start = 5824708 # integer\n",
    "end = 5845478 # integer\n",
    "\n",
    "text_main = \"mESC 00h, 12h (Neat1)\""
   ]
  },
  {
   "cell_type": "markdown",
   "metadata": {},
   "source": [
    "## Plot"
   ]
  },
  {
   "cell_type": "markdown",
   "metadata": {},
   "source": [
    "### Default\n",
    "When we don't set the sc_sort_destiny parameter (default), the order of single cells is the order of bwfiles.\n",
    "\n"
   ]
  },
  {
   "cell_type": "code",
   "execution_count": null,
   "metadata": {},
   "outputs": [],
   "source": [
    "l <- millefyPlot(track_data=tdlist, track_type=tt, heights=heights,\n",
    "          sc_type = \"heatmap\",\n",
    "          chr = chr, start = start, end = end,\n",
    "          sc_avg = TRUE, sc_avg_height = 1,\n",
    "          title = text_main)"
   ]
  },
  {
   "cell_type": "markdown",
   "metadata": {},
   "source": [
    "### Replot ('all-cell' mode)\n",
    "When we set sc_sort_destiny = 'all', all single cells are reordered by diffusion maps."
   ]
  },
  {
   "cell_type": "code",
   "execution_count": null,
   "metadata": {},
   "outputs": [],
   "source": [
    "millefy_adjust(sc_sort_destiny = 'all')"
   ]
  },
  {
   "cell_type": "markdown",
   "metadata": {},
   "source": [
    "### Replot ('group-wise' mode)\n",
    "When we set sc_sort_destiny = 'group', all single cells in each group are reordered by diffusion maps."
   ]
  },
  {
   "cell_type": "code",
   "execution_count": null,
   "metadata": {},
   "outputs": [],
   "source": [
    "millefy_adjust(sc_sort_destiny = 'group')"
   ]
  },
  {
   "cell_type": "markdown",
   "metadata": {},
   "source": [
    "### Replot (Change scale of averaged single-cell read coverage track)\n",
    "Using `sc_avg_scale`, you can change the scale of the averaged single-cell read coverage tracks"
   ]
  },
  {
   "cell_type": "code",
   "execution_count": null,
   "metadata": {},
   "outputs": [],
   "source": [
    "millefy_adjust(sc_avg_scale = 7000)"
   ]
  },
  {
   "cell_type": "markdown",
   "metadata": {},
   "source": [
    "## sessionInfo"
   ]
  },
  {
   "cell_type": "code",
   "execution_count": null,
   "metadata": {},
   "outputs": [],
   "source": [
    "sessionInfo()"
   ]
  }
 ],
 "metadata": {
  "kernelspec": {
   "display_name": "R",
   "language": "R",
   "name": "ir"
  },
  "language_info": {
   "codemirror_mode": "r",
   "file_extension": ".r",
   "mimetype": "text/x-r-source",
   "name": "R",
   "pygments_lexer": "r",
   "version": "3.6.1"
  }
 },
 "nbformat": 4,
 "nbformat_minor": 4
}
